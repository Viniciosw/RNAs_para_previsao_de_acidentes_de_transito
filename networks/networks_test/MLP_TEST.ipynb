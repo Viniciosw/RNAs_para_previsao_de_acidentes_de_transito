{
 "cells": [
  {
   "cell_type": "code",
   "execution_count": null,
   "id": "2bc8b8e5",
   "metadata": {},
   "outputs": [],
   "source": [
    "# Script for running the pre-trained network\n",
    "\n",
    "# Importing the libraries\n",
    "import time\n",
    "import shap\n",
    "\n",
    "# Logging the start time of code execution\n",
    "start_time = time.time()\n",
    "\n",
    "import pickle\n",
    "import scikitplot as skplt\n",
    "\n",
    "import pandas as pd\n",
    "import numpy as np\n",
    "\n",
    "import matplotlib.pyplot as plt\n",
    "import seaborn as sns\n",
    "\n",
    "from sklearn.metrics import plot_confusion_matrix\n",
    "from imblearn.under_sampling import RandomUnderSampler\n",
    "\n",
    "# Suppressing warnings\n",
    "from warnings import simplefilter\n",
    "simplefilter(action = 'ignore', category = FutureWarning)\n",
    "\n",
    "# Configuring the style of the plots with Seaborn\n",
    "sns.set_style('dark')\n",
    "shap.initjs()"
   ]
  },
  {
   "cell_type": "code",
   "execution_count": null,
   "id": "68ddb18b",
   "metadata": {},
   "outputs": [],
   "source": [
    "# Reading the pickle file\n",
    "with open('../../data/networks_pkl/mlp_model.pkl', 'rb') as file:\n",
    "    model = pickle.load(file)"
   ]
  },
  {
   "cell_type": "code",
   "execution_count": null,
   "id": "ccaf2588",
   "metadata": {},
   "outputs": [],
   "source": [
    "# Importing the test datasets\n",
    "inputs_test_df = pd.read_csv('../../data/refined/inputs_test_df.csv')\n",
    "outputs_test_df = pd.read_csv('../../data/refined/outputs_test_df.csv')"
   ]
  },
  {
   "cell_type": "code",
   "execution_count": null,
   "id": "8a6c534f",
   "metadata": {},
   "outputs": [],
   "source": [
    "# Converting the test dataframe into an array\n",
    "input_test_array = np.array(inputs_test_df)\n",
    "output_test_array = np.array(outputs_test_df)"
   ]
  },
  {
   "cell_type": "code",
   "execution_count": null,
   "id": "61c519c5",
   "metadata": {},
   "outputs": [],
   "source": [
    "# Using under-sampling only to separate \"Não Grave\" and \"Grave\" accidents at opposite ends...\n",
    "# which will facilitate the interpretation of only \"Grave\" accidents\n",
    "rus = RandomUnderSampler(sampling_strategy = 'not minority')\n",
    "x_res_test, y_res_test = rus.fit_resample(input_test_array, output_test_array)\n",
    "\n",
    "# To see the balance and distribution of the classes\n",
    "print(pd.Series(y_res_test).value_counts())\n",
    "\n",
    "# Plotting the new class distribution\n",
    "sns.countplot(y_res_test);"
   ]
  },
  {
   "cell_type": "code",
   "execution_count": null,
   "id": "3beee5eb",
   "metadata": {},
   "outputs": [],
   "source": [
    "# Running the network with test data\n",
    "y_pred = model.predict(input_test_array)\n",
    "\n",
    "# Assigning True to values greater than 0.5 and False to values less than or equal to 0.5\n",
    "y_pred = (y_pred > 0.5)"
   ]
  },
  {
   "cell_type": "code",
   "execution_count": null,
   "id": "41a63592",
   "metadata": {},
   "outputs": [],
   "source": [
    "# Plotting the confusion matrix\n",
    "# VN, FN\n",
    "# FP, VP\n",
    "# 0 == \"Não Grave\" / 1 == \"Grave\"\n",
    "\n",
    "labels = ['Não Grave', 'Grave']\n",
    "\n",
    "skplt.metrics.plot_confusion_matrix(output_test_array, y_pred)\n",
    "\n",
    "plt.xticks(ticks = [0, 1], labels = labels, size = 12)\n",
    "plt.yticks(ticks = [0, 1], labels = labels, size = 12)\n",
    "\n",
    "plt.ylabel('True label', size = 13, labelpad = 15)\n",
    "plt.xlabel('Predicted label', size = 13, labelpad = 15)"
   ]
  },
  {
   "cell_type": "code",
   "execution_count": null,
   "id": "0defabcb",
   "metadata": {},
   "outputs": [],
   "source": [
    "# Getting the initial number from where the \"Grave\" accidents are located in the array.\n",
    "start = int((len(y_res_test)) / 2)\n",
    "\n",
    "# Getting the final number from the array\n",
    "end = int(len(y_res_test))"
   ]
  },
  {
   "cell_type": "code",
   "execution_count": null,
   "id": "8b26ae43",
   "metadata": {
    "scrolled": true
   },
   "outputs": [],
   "source": [
    "# Get SHAP values\n",
    "explainer_shap = shap.Explainer(model.predict, x_res_test, feature_names = inputs_test_df.columns)\n",
    "shap_values = explainer_shap(x_res_test[start : end])"
   ]
  },
  {
   "cell_type": "code",
   "execution_count": null,
   "id": "ef8f3580",
   "metadata": {},
   "outputs": [],
   "source": [
    "# Plotting the beeswarm plot for SHAP values\n",
    "shap.plots.beeswarm(shap_values, max_display = 21, plot_size = (8, 8), order = shap_values.abs.max(0))"
   ]
  },
  {
   "cell_type": "code",
   "execution_count": null,
   "id": "0388f473",
   "metadata": {},
   "outputs": [],
   "source": [
    "# Plotting the beeswarm plot for SHAP values\n",
    "#shap.plots.beeswarm(shap_values, max_display = 88, plot_size = (30, 30), order = shap_values.abs.max(0))"
   ]
  },
  {
   "cell_type": "code",
   "execution_count": null,
   "id": "e349ac6e",
   "metadata": {},
   "outputs": [],
   "source": [
    "# Logging the end time of code execution\n",
    "end_time = time.time()\n",
    "\n",
    "# Calculating the runtime\n",
    "execution_time = end_time - start_time\n",
    "\n",
    "# Displaying the runtime in seconds\n",
    "print(\"Execution time:\", execution_time, \"seconds.\")"
   ]
  },
  {
   "cell_type": "code",
   "execution_count": null,
   "id": "6f46214e",
   "metadata": {},
   "outputs": [],
   "source": []
  }
 ],
 "metadata": {
  "kernelspec": {
   "display_name": "Python 3 (ipykernel)",
   "language": "python",
   "name": "python3"
  },
  "language_info": {
   "codemirror_mode": {
    "name": "ipython",
    "version": 3
   },
   "file_extension": ".py",
   "mimetype": "text/x-python",
   "name": "python",
   "nbconvert_exporter": "python",
   "pygments_lexer": "ipython3",
   "version": "3.9.13"
  }
 },
 "nbformat": 4,
 "nbformat_minor": 5
}
