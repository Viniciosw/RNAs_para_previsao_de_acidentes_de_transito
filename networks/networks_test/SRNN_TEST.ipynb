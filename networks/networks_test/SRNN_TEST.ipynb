{
 "cells": [
  {
   "cell_type": "code",
   "execution_count": null,
   "id": "27e9ff6e",
   "metadata": {},
   "outputs": [],
   "source": [
    "# Script for running the pre-trained network\n",
    "\n",
    "# Importing the libraries\n",
    "import time\n",
    "\n",
    "# Logging the start time of code execution\n",
    "start_time = time.time()\n",
    "\n",
    "import pickle\n",
    "import scikitplot as skplt\n",
    "\n",
    "import pandas as pd\n",
    "import numpy as np\n",
    "\n",
    "import matplotlib.pyplot as plt\n",
    "import seaborn as sns\n",
    "\n",
    "from sklearn.metrics import plot_confusion_matrix\n",
    "\n",
    "# Suppressing warnings\n",
    "from warnings import simplefilter\n",
    "simplefilter(action = 'ignore', category = FutureWarning)\n",
    "\n",
    "# Configuring the style of the plots with Seaborn\n",
    "sns.set_style('dark')"
   ]
  },
  {
   "cell_type": "code",
   "execution_count": null,
   "id": "6c0b9f5b",
   "metadata": {},
   "outputs": [],
   "source": [
    "# Reading the pickle file\n",
    "with open('../../data/networks_pkl/srnn_model.pkl', 'rb') as file:\n",
    "    model = pickle.load(file)"
   ]
  },
  {
   "cell_type": "code",
   "execution_count": null,
   "id": "9ac0d423",
   "metadata": {},
   "outputs": [],
   "source": [
    "# Importing the test datasets\n",
    "inputs_test_df = pd.read_csv('../../data/refined/inputs_test_df.csv')\n",
    "outputs_test_df = pd.read_csv('../../data/refined/outputs_test_df.csv')"
   ]
  },
  {
   "cell_type": "code",
   "execution_count": null,
   "id": "2918c892",
   "metadata": {},
   "outputs": [],
   "source": [
    "# Converting the test dataframe into an array\n",
    "input_test_array = np.array(inputs_test_df)\n",
    "output_test_array = np.array(outputs_test_df)"
   ]
  },
  {
   "cell_type": "code",
   "execution_count": null,
   "id": "651ee01c",
   "metadata": {
    "scrolled": true
   },
   "outputs": [],
   "source": [
    "# Changing the dimension of the arrays to fit the requirements of LSTM\n",
    "# Test\n",
    "input_test_array = input_test_array.reshape(-1, 1, len(inputs_test_df.columns))"
   ]
  },
  {
   "cell_type": "code",
   "execution_count": null,
   "id": "af5e69a7",
   "metadata": {},
   "outputs": [],
   "source": [
    "# Running the network with test data\n",
    "y_pred = model.predict(input_test_array)\n",
    "\n",
    "# Assigning True to values greater than 0.5 and False to values less than or equal to 0.5\n",
    "y_pred = (y_pred > 0.5)"
   ]
  },
  {
   "cell_type": "code",
   "execution_count": null,
   "id": "49bcce50",
   "metadata": {
    "scrolled": false
   },
   "outputs": [],
   "source": [
    "# Plotting the confusion matrix\n",
    "# VN, FN\n",
    "# FP, VP\n",
    "# 0 == \"Não Grave\" / 1 == \"Grave\"\n",
    "\n",
    "labels = ['Não Grave', 'Grave']\n",
    "\n",
    "skplt.metrics.plot_confusion_matrix(output_test_array, y_pred)\n",
    "\n",
    "plt.xticks(ticks = [0, 1], labels = labels, size = 12)\n",
    "plt.yticks(ticks = [0, 1], labels = labels, size = 12)\n",
    "\n",
    "plt.ylabel('True label', size = 13, labelpad = 15)\n",
    "plt.xlabel('Predicted label', size = 13, labelpad = 15)"
   ]
  },
  {
   "cell_type": "code",
   "execution_count": null,
   "id": "f282b510",
   "metadata": {},
   "outputs": [],
   "source": [
    "# Logging the end time of code execution\n",
    "end_time = time.time()\n",
    "\n",
    "# Calculating the runtime\n",
    "execution_time = end_time - start_time\n",
    "\n",
    "# Displaying the runtime in seconds\n",
    "print(\"Execution time:\", execution_time, \"seconds.\")"
   ]
  },
  {
   "cell_type": "code",
   "execution_count": null,
   "id": "c52ccd36",
   "metadata": {},
   "outputs": [],
   "source": []
  }
 ],
 "metadata": {
  "kernelspec": {
   "display_name": "Python 3 (ipykernel)",
   "language": "python",
   "name": "python3"
  },
  "language_info": {
   "codemirror_mode": {
    "name": "ipython",
    "version": 3
   },
   "file_extension": ".py",
   "mimetype": "text/x-python",
   "name": "python",
   "nbconvert_exporter": "python",
   "pygments_lexer": "ipython3",
   "version": "3.9.13"
  }
 },
 "nbformat": 4,
 "nbformat_minor": 5
}
