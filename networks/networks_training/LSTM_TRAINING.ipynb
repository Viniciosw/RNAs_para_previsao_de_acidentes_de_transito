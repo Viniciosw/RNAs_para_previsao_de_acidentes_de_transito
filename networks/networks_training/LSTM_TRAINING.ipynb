{
 "cells": [
  {
   "cell_type": "code",
   "execution_count": null,
   "id": "27e9ff6e",
   "metadata": {},
   "outputs": [],
   "source": [
    "# Importing the libraries\n",
    "import time\n",
    "\n",
    "# Logging the start time of code execution\n",
    "start_time = time.time()\n",
    "\n",
    "import keras\n",
    "from tensorflow.keras.models import Sequential\n",
    "from tensorflow.keras.layers import Dense, LSTM\n",
    "\n",
    "import pickle\n",
    "import pandas as pd\n",
    "import numpy as np\n",
    "\n",
    "import matplotlib.pyplot as plt\n",
    "import seaborn as sns\n",
    "\n",
    "# Suppressing warnings\n",
    "from warnings import simplefilter\n",
    "simplefilter(action = 'ignore', category = FutureWarning)\n",
    "\n",
    "# Configuring the style of the plots with Seaborn\n",
    "sns.set_style('dark')"
   ]
  },
  {
   "cell_type": "code",
   "execution_count": null,
   "id": "9ac0d423",
   "metadata": {},
   "outputs": [],
   "source": [
    "# Importing the training datasets\n",
    "inputs_training_df = pd.read_csv('../../data/refined/inputs_training_df.csv')\n",
    "outputs_training_df = pd.read_csv('../../data/refined/outputs_training_df.csv')"
   ]
  },
  {
   "cell_type": "code",
   "execution_count": null,
   "id": "2918c892",
   "metadata": {},
   "outputs": [],
   "source": [
    "# Converting the training dataframe into an array\n",
    "input_training_array = np.array(inputs_training_df)\n",
    "output_training_array = np.array(outputs_training_df)"
   ]
  },
  {
   "cell_type": "code",
   "execution_count": null,
   "id": "651ee01c",
   "metadata": {
    "scrolled": true
   },
   "outputs": [],
   "source": [
    "# Changing the dimension of the arrays to fit the requirements of LSTM\n",
    "# Training\n",
    "input_training_array = input_training_array.reshape(-1, 1, len(inputs_training_df.columns))\n",
    "output_training_array = output_training_array.reshape(-1, 1, 1)"
   ]
  },
  {
   "cell_type": "code",
   "execution_count": null,
   "id": "b23c057e",
   "metadata": {},
   "outputs": [],
   "source": [
    "# Building the neural network\n",
    "model = Sequential()\n",
    "\n",
    "model.add(LSTM(80, return_sequences = True, kernel_initializer = 'random_normal', input_shape = (1, len(inputs_training_df.columns))))\n",
    "model.add(LSTM(80, return_sequences = False, kernel_initializer = 'random_normal'))\n",
    "model.add(Dense(1, activation = 'sigmoid', kernel_initializer = 'random_normal'))\n",
    "\n",
    "model.compile(optimizer = 'Adam', loss = 'binary_crossentropy', metrics = 'accuracy')"
   ]
  },
  {
   "cell_type": "code",
   "execution_count": null,
   "id": "f4ca3e49",
   "metadata": {
    "scrolled": true
   },
   "outputs": [],
   "source": [
    "# Training the neural network\n",
    "r = model.fit(input_training_array, output_training_array, batch_size = 250, epochs = 5)"
   ]
  },
  {
   "cell_type": "code",
   "execution_count": null,
   "id": "30d46f34",
   "metadata": {
    "scrolled": false
   },
   "outputs": [],
   "source": [
    "# Plotting the loss graph\n",
    "plt.plot(r.history['loss'], label = 'loss')\n",
    "\n",
    "plt.legend()"
   ]
  },
  {
   "cell_type": "code",
   "execution_count": null,
   "id": "68d59a13",
   "metadata": {},
   "outputs": [],
   "source": [
    "# Creating the pickle file\n",
    "with open('../../data/networks_pkl/lstm_model.pkl', 'wb') as file:\n",
    "    pickle.dump(model, file)"
   ]
  },
  {
   "cell_type": "code",
   "execution_count": null,
   "id": "f282b510",
   "metadata": {},
   "outputs": [],
   "source": [
    "# Logging the end time of code execution\n",
    "end_time = time.time()\n",
    "\n",
    "# Calculating the runtime\n",
    "execution_time = end_time - start_time\n",
    "\n",
    "# Displaying the runtime in seconds\n",
    "print(\"Execution time:\", execution_time, \"seconds.\")"
   ]
  },
  {
   "cell_type": "code",
   "execution_count": null,
   "id": "c52ccd36",
   "metadata": {},
   "outputs": [],
   "source": []
  }
 ],
 "metadata": {
  "kernelspec": {
   "display_name": "Python 3 (ipykernel)",
   "language": "python",
   "name": "python3"
  },
  "language_info": {
   "codemirror_mode": {
    "name": "ipython",
    "version": 3
   },
   "file_extension": ".py",
   "mimetype": "text/x-python",
   "name": "python",
   "nbconvert_exporter": "python",
   "pygments_lexer": "ipython3",
   "version": "3.9.13"
  }
 },
 "nbformat": 4,
 "nbformat_minor": 5
}
