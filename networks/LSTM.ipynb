{
 "cells": [
  {
   "cell_type": "code",
   "execution_count": null,
   "id": "27e9ff6e",
   "metadata": {},
   "outputs": [],
   "source": [
    "# Importing the libraries\n",
    "import time\n",
    "\n",
    "# Logging the start time of code execution\n",
    "start_time = time.time()\n",
    "\n",
    "import keras\n",
    "import scikitplot as skplt\n",
    "\n",
    "import pandas as pd\n",
    "import numpy as np\n",
    "\n",
    "import matplotlib.pyplot as plt\n",
    "import seaborn as sns\n",
    "\n",
    "from tensorflow.keras.models import Sequential\n",
    "from tensorflow.keras.layers import Dense, LSTM\n",
    "\n",
    "from sklearn.metrics import plot_confusion_matrix\n",
    "\n",
    "# Suppressing warnings\n",
    "from warnings import simplefilter\n",
    "simplefilter(action = 'ignore', category = FutureWarning)\n",
    "\n",
    "# Configuring the style of the plots with Seaborn\n",
    "sns.set_style('dark')"
   ]
  },
  {
   "cell_type": "code",
   "execution_count": null,
   "id": "9ac0d423",
   "metadata": {},
   "outputs": [],
   "source": [
    "# Importing the training datasets\n",
    "inputs_training_df = pd.read_csv('../data/refined/inputs_training_df.csv')\n",
    "outputs_training_df = pd.read_csv('../data/refined/outputs_training_df.csv')\n",
    "\n",
    "# Importing the test datasets\n",
    "inputs_test_df = pd.read_csv('../data/refined/inputs_test_df.csv')\n",
    "outputs_test_df = pd.read_csv('../data/refined/outputs_test_df.csv')"
   ]
  },
  {
   "cell_type": "code",
   "execution_count": null,
   "id": "2918c892",
   "metadata": {},
   "outputs": [],
   "source": [
    "# Converting the training dataframe into an array\n",
    "input_training_array = np.array(inputs_training_df)\n",
    "output_training_array = np.array(outputs_training_df)\n",
    "\n",
    "# Converting the test dataframe into an array\n",
    "input_test_array = np.array(inputs_test_df)\n",
    "output_test_array = np.array(outputs_test_df)"
   ]
  },
  {
   "cell_type": "code",
   "execution_count": null,
   "id": "452d9ebe",
   "metadata": {
    "scrolled": false
   },
   "outputs": [],
   "source": [
    "# Using under-sampling only to separate \"Não Grave\" and \"Grave\" accidents at opposite ends...\n",
    "# which will facilitate the interpretation of only \"Grave\" accidents\n",
    "rus = RandomUnderSampler(sampling_strategy = 'not minority')\n",
    "x_res_test, y_res_test = rus.fit_resample(input_test_array, output_test_array)\n",
    "\n",
    "# To see the balance and distribution of the classes\n",
    "print(pd.Series(y_res_test).value_counts())\n",
    "\n",
    "# Plotting the new class distribution\n",
    "sns.countplot(y_res_test);"
   ]
  },
  {
   "cell_type": "code",
   "execution_count": null,
   "id": "651ee01c",
   "metadata": {
    "scrolled": true
   },
   "outputs": [],
   "source": [
    "# Changing the dimension of the arrays to fit the requirements of LSTM\n",
    "# Training\n",
    "input_training_array = input_training_array.reshape(-1, 1, len(inputs_training_df.columns))\n",
    "output_training_array = output_training_array.reshape(-1, 1, 1)\n",
    "\n",
    "# Test\n",
    "input_test_array = input_test_array.reshape(-1, 1, len(inputs_test_df.columns))\n",
    "\n",
    "# Interpretation\n",
    "x_res_test = x_res_test.reshape(-1, 1, len(inputs_test_df.columns))\n",
    "y_res_test = y_res_test.reshape(-1, 1, 1)"
   ]
  },
  {
   "cell_type": "code",
   "execution_count": null,
   "id": "b23c057e",
   "metadata": {},
   "outputs": [],
   "source": [
    "# Building the neural network\n",
    "model = Sequential()\n",
    "\n",
    "model.add(LSTM(80, return_sequences = True, kernel_initializer = 'random_normal', input_shape = (1, len(inputs_training_df.columns))))\n",
    "model.add(LSTM(80, return_sequences = False, kernel_initializer = 'random_normal'))\n",
    "model.add(Dense(1, activation = 'sigmoid', kernel_initializer = 'random_normal'))\n",
    "\n",
    "model.compile(optimizer = 'Adam', loss = 'binary_crossentropy', metrics = 'accuracy')"
   ]
  },
  {
   "cell_type": "code",
   "execution_count": null,
   "id": "f4ca3e49",
   "metadata": {
    "scrolled": true
   },
   "outputs": [],
   "source": [
    "# Training the neural network\n",
    "r = model.fit(input_training_array, output_training_array, batch_size = 250, epochs = 5)"
   ]
  },
  {
   "cell_type": "code",
   "execution_count": null,
   "id": "30d46f34",
   "metadata": {
    "scrolled": false
   },
   "outputs": [],
   "source": [
    "# Plotting the loss graph\n",
    "plt.plot(r.history['loss'], label = 'loss')\n",
    "\n",
    "plt.legend()"
   ]
  },
  {
   "cell_type": "code",
   "execution_count": null,
   "id": "af5e69a7",
   "metadata": {},
   "outputs": [],
   "source": [
    "# Running the network with test data\n",
    "y_pred = model.predict(input_test_array)\n",
    "\n",
    "# Assigning True to values greater than 0.5 and False to values less than or equal to 0.5\n",
    "y_pred = (y_pred > 0.5)"
   ]
  },
  {
   "cell_type": "code",
   "execution_count": null,
   "id": "49bcce50",
   "metadata": {
    "scrolled": false
   },
   "outputs": [],
   "source": [
    "# Plotting the confusion matrix\n",
    "# VN, FN\n",
    "# FP, VP\n",
    "# 0 == \"Não Grave\" / 1 == \"Grave\"\n",
    "\n",
    "labels = ['Não Grave', 'Grave']\n",
    "\n",
    "skplt.metrics.plot_confusion_matrix(output_test_array, y_pred)\n",
    "\n",
    "plt.xticks(ticks = [0, 1], labels = labels, size = 12)\n",
    "plt.yticks(ticks = [0, 1], labels = labels, size = 12)\n",
    "\n",
    "plt.ylabel('True label', size = 13, labelpad = 15)\n",
    "plt.xlabel('Predicted label', size = 13, labelpad = 15)"
   ]
  },
  {
   "cell_type": "code",
   "execution_count": null,
   "id": "f282b510",
   "metadata": {},
   "outputs": [],
   "source": [
    "# Logging the end time of code execution\n",
    "end_time = time.time()\n",
    "\n",
    "# Calculating the runtime\n",
    "execution_time = end_time - start_time\n",
    "\n",
    "# Displaying the runtime in seconds\n",
    "print(\"Execution time:\", execution_time, \"seconds.\")"
   ]
  },
  {
   "cell_type": "code",
   "execution_count": null,
   "id": "c52ccd36",
   "metadata": {},
   "outputs": [],
   "source": []
  }
 ],
 "metadata": {
  "kernelspec": {
   "display_name": "Python 3 (ipykernel)",
   "language": "python",
   "name": "python3"
  },
  "language_info": {
   "codemirror_mode": {
    "name": "ipython",
    "version": 3
   },
   "file_extension": ".py",
   "mimetype": "text/x-python",
   "name": "python",
   "nbconvert_exporter": "python",
   "pygments_lexer": "ipython3",
   "version": "3.9.13"
  }
 },
 "nbformat": 4,
 "nbformat_minor": 5
}
