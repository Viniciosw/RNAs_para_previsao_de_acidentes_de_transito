{
 "cells": [
  {
   "cell_type": "code",
   "execution_count": null,
   "id": "208beb41",
   "metadata": {},
   "outputs": [],
   "source": [
    "# Importing the libraries\n",
    "import pandas as pd\n",
    "import numpy as np\n",
    "\n",
    "import matplotlib.pyplot as plt\n",
    "import seaborn as sns\n",
    "\n",
    "# Configuring the style of the plots with Seaborn\n",
    "sns.set_style('dark')"
   ]
  },
  {
   "cell_type": "code",
   "execution_count": null,
   "id": "4ff9d998",
   "metadata": {},
   "outputs": [],
   "source": [
    "# Importing the training dataset\n",
    "df = pd.read_csv('../data/trusted/trusted_file_training.csv')\n",
    "\n",
    "# Importing the test dataset\n",
    "#df = pd.read_csv('../data/trusted/trusted_file_test.csv')"
   ]
  },
  {
   "cell_type": "code",
   "execution_count": null,
   "id": "cbd55342",
   "metadata": {},
   "outputs": [],
   "source": [
    "# Adding the string \"xx\" to all instances where \"uf\" is different from the ones mentioned below\n",
    "# States belonging to the Amazônia region\n",
    "df.loc[(df['uf'] != 'AC') & \n",
    "       (df['uf'] != 'AP') & \n",
    "       (df['uf'] != 'AM') & \n",
    "       (df['uf'] != 'PA') & \n",
    "       (df['uf'] != 'RO') & \n",
    "       (df['uf'] != 'RR') & \n",
    "       (df['uf'] != 'TO') & \n",
    "       (df['uf'] != 'MA') & \n",
    "       (df['uf'] != 'MT'), 'uf'] = 'xx'\n",
    "\n",
    "# Transforming \"xx\" into null values\n",
    "df.replace({'xx': np.nan}, inplace = True)\n",
    "\n",
    "# Dropping all instances with null values from the df\n",
    "df = df.dropna(how = 'any', axis = 0)\n",
    "\n",
    "# Resetting the index numbering\n",
    "df.reset_index(drop = True, inplace = True)"
   ]
  },
  {
   "cell_type": "code",
   "execution_count": null,
   "id": "746736d3",
   "metadata": {
    "scrolled": false
   },
   "outputs": [],
   "source": [
    "# Defining colors for each state\n",
    "color_dict = {'PA': 'C0', 'RO': 'C1', 'TO': 'C2', 'AC': 'C3', 'RR': 'C4', 'AP': 'C5', 'AM': 'C6', 'MT': 'C7', 'MA': 'C8'}\n",
    "\n",
    "# Counting the number of instances for each state\n",
    "state_counts = df['uf'].value_counts()\n",
    "\n",
    "# Creating the figure and defining the size according to the number of states\n",
    "fig = plt.figure(figsize = (len(state_counts) * 1.5, 8))\n",
    "\n",
    "# Creating the bars with colors defined by the dictionary.\n",
    "plt.bar(state_counts.index, state_counts, color = [color_dict.get(state, 'gray') for state in state_counts.index])\n",
    "\n",
    "# Adding the percentage above each bar\n",
    "for i, value in enumerate(state_counts):\n",
    "    plt.text(i, value + 200, f\"{value / state_counts.sum() * 100:.1f}%\", ha = 'center', va = 'bottom', fontsize = 12.5)\n",
    "\n",
    "# Setting y-axis limits and adding labels and a title\n",
    "plt.ylim([0, state_counts.max() + 2000])\n",
    "plt.xlabel('States', fontsize = 16, labelpad = 10, horizontalalignment = 'center')\n",
    "plt.ylabel('Number of accidents that occurred (2007 - 2020)', fontsize = 16, labelpad = 17, verticalalignment = 'center')\n",
    "plt.title(f'Amazônia Region', fontsize = 16, pad = 12, ha = 'center')\n",
    "\n",
    "plt.show()"
   ]
  },
  {
   "cell_type": "code",
   "execution_count": null,
   "id": "41e2df28",
   "metadata": {},
   "outputs": [],
   "source": []
  }
 ],
 "metadata": {
  "kernelspec": {
   "display_name": "Python 3 (ipykernel)",
   "language": "python",
   "name": "python3"
  },
  "language_info": {
   "codemirror_mode": {
    "name": "ipython",
    "version": 3
   },
   "file_extension": ".py",
   "mimetype": "text/x-python",
   "name": "python",
   "nbconvert_exporter": "python",
   "pygments_lexer": "ipython3",
   "version": "3.9.13"
  }
 },
 "nbformat": 4,
 "nbformat_minor": 5
}
