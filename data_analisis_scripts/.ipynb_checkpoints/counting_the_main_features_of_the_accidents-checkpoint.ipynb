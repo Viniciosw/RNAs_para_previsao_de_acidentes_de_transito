{
 "cells": [
  {
   "cell_type": "code",
   "execution_count": null,
   "id": "5f4ee549",
   "metadata": {},
   "outputs": [],
   "source": [
    "# Importing the libraries\n",
    "import pandas as pd\n",
    "import numpy as np\n",
    "\n",
    "# Importing the training dataset\n",
    "df = pd.read_csv('../data/trusted/trusted_file_training.csv')\n",
    "\n",
    "# Importing the test dataset\n",
    "#df = pd.read_csv('../data/trusted/trusted_file_test.csv')"
   ]
  },
  {
   "cell_type": "code",
   "execution_count": null,
   "id": "a2985c56",
   "metadata": {},
   "outputs": [],
   "source": [
    "# Getting only the instances of \"Não Grave\" accidents\n",
    "df_nao_grave = df.loc[df['classificacao_acidente'] == 'Não Grave']\n",
    "\n",
    "# Getting only the instances of \"Grave\" accidents\n",
    "df_grave = df.loc[df['classificacao_acidente'] == 'Grave']"
   ]
  },
  {
   "cell_type": "code",
   "execution_count": null,
   "id": "57d37d1a",
   "metadata": {},
   "outputs": [],
   "source": [
    "# Counting the main features of the observed variable\n",
    "df_nao_grave['causa_acidente'].value_counts().head(10)"
   ]
  },
  {
   "cell_type": "code",
   "execution_count": null,
   "id": "df4f4486",
   "metadata": {
    "scrolled": false
   },
   "outputs": [],
   "source": [
    "# Counting the main features of the observed variable\n",
    "df_grave['causa_acidente'].value_counts().head(10)"
   ]
  },
  {
   "cell_type": "code",
   "execution_count": null,
   "id": "76e591e8",
   "metadata": {},
   "outputs": [],
   "source": []
  }
 ],
 "metadata": {
  "kernelspec": {
   "display_name": "Python 3 (ipykernel)",
   "language": "python",
   "name": "python3"
  },
  "language_info": {
   "codemirror_mode": {
    "name": "ipython",
    "version": 3
   },
   "file_extension": ".py",
   "mimetype": "text/x-python",
   "name": "python",
   "nbconvert_exporter": "python",
   "pygments_lexer": "ipython3",
   "version": "3.9.13"
  }
 },
 "nbformat": 4,
 "nbformat_minor": 5
}
