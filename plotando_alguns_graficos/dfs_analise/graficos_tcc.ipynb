{
 "cells": [
  {
   "cell_type": "code",
   "execution_count": null,
   "id": "208beb41",
   "metadata": {},
   "outputs": [],
   "source": [
    "import pandas as pd\n",
    "import numpy as np\n",
    "\n",
    "import matplotlib.pyplot as plt\n",
    "import seaborn as sns\n",
    "\n",
    "# configurar o estilo dos gráficos com o Seaborn\n",
    "sns.set_style('dark')\n",
    "\n",
    "df = pd.read_csv('../../df_tran/estados_df/regiao_amazonica_csv/datatran_amazonica_2007_2020_processado.csv')\n",
    "#df = pd.read_csv('../../df_tran/estados_df/regiao_amazonica_csv/datatran_amazonica_2021_processado.csv')"
   ]
  },
  {
   "cell_type": "code",
   "execution_count": null,
   "id": "1f07d4c7",
   "metadata": {},
   "outputs": [],
   "source": [
    "'''# Ver o balanceamento das classes\n",
    "print(df.uf.value_counts())\n",
    "print(\"\\nO Pará representa {:.2f}% do dataset.\\n\".format((df[df.uf == 'PA'].shape[0] / df.shape[0]) * 100))\n",
    "\n",
    "# Plotar gráfico de barras para as Classes\n",
    "sns.countplot('uf', data = df);\n",
    "'''"
   ]
  },
  {
   "cell_type": "code",
   "execution_count": null,
   "id": "746736d3",
   "metadata": {
    "scrolled": true
   },
   "outputs": [],
   "source": [
    "# Definindo cores para cada estado\n",
    "color_dict = {'PA': 'C0', 'RO': 'C1', 'TO': 'C2', 'AC': 'C3', 'RR': 'C4', 'AP': 'C5', 'AM': 'C6', 'MT': 'C7', 'MA': 'C8'}\n",
    "\n",
    "# Encontrando o estado com o maior número de instâncias\n",
    "state_counts = df['uf'].value_counts()\n",
    "\n",
    "# Criando a figura e definindo o tamanho de acordo com o número de estados\n",
    "fig = plt.figure(figsize = (len(state_counts) * 1.5, 8))\n",
    "\n",
    "# Criando as barras com as cores definidas pelo dicionário\n",
    "plt.bar(state_counts.index, state_counts, color=[color_dict.get(state, 'gray') for state in state_counts.index])\n",
    "\n",
    "# Adicionando a porcentagem acima de cada barra\n",
    "for i, value in enumerate(state_counts):\n",
    "    plt.text(i, value + 200, f\"{value / state_counts.sum() * 100:.1f}%\", ha = 'center', va = 'bottom', fontsize = 12.5)\n",
    "\n",
    "# Definindo limites do eixo y e adicionando rótulos e título\n",
    "plt.ylim([0, state_counts.max() + 2000])\n",
    "plt.xlabel('Estados', fontsize = 16, labelpad = 10, horizontalalignment = 'center')\n",
    "plt.ylabel('Nº. de acidentes ocorridos (2007 - 2020)', fontsize = 16, labelpad = 17, verticalalignment = 'center')\n",
    "plt.title(f'Região Amazônica', fontsize = 16, pad = 12, ha = 'center')\n",
    "\n",
    "plt.show()"
   ]
  },
  {
   "cell_type": "code",
   "execution_count": null,
   "id": "41e2df28",
   "metadata": {},
   "outputs": [],
   "source": []
  }
 ],
 "metadata": {
  "kernelspec": {
   "display_name": "Python 3 (ipykernel)",
   "language": "python",
   "name": "python3"
  },
  "language_info": {
   "codemirror_mode": {
    "name": "ipython",
    "version": 3
   },
   "file_extension": ".py",
   "mimetype": "text/x-python",
   "name": "python",
   "nbconvert_exporter": "python",
   "pygments_lexer": "ipython3",
   "version": "3.9.13"
  }
 },
 "nbformat": 4,
 "nbformat_minor": 5
}
