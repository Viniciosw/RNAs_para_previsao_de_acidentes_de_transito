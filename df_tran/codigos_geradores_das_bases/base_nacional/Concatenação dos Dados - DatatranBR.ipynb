{
 "cells": [
  {
   "cell_type": "code",
   "execution_count": null,
   "id": "8ea79ca3",
   "metadata": {},
   "outputs": [],
   "source": [
    "import pandas as pd\n",
    "\n",
    "#df = pd.read_csv('../../estados_df/base_nacional_csv/datatran_BR_2007_2021.csv')\n",
    "\n",
    "#df = pd.read_csv('../../estados_df/base_nacional_csv/datatran_BR_2007_2020.csv')\n",
    "\n",
    "df = pd.read_csv('../../estados_df/base_nacional_csv/datatran_BR_2021.csv')"
   ]
  },
  {
   "cell_type": "code",
   "execution_count": null,
   "id": "85b1a428",
   "metadata": {
    "scrolled": true
   },
   "outputs": [],
   "source": [
    "df"
   ]
  },
  {
   "cell_type": "code",
   "execution_count": null,
   "id": "05d52d64",
   "metadata": {},
   "outputs": [],
   "source": [
    "#df['causa_acidente'].unique()"
   ]
  },
  {
   "cell_type": "code",
   "execution_count": null,
   "id": "8a135e07",
   "metadata": {},
   "outputs": [],
   "source": [
    "# Uf\n",
    "uf = df['uf']\n",
    "ufDF = pd.DataFrame(uf)\n",
    "\n",
    "# UfBr\n",
    "df['uf'] = df['uf'].astype(str)\n",
    "df['br'] = df['br'].astype(str)\n",
    "\n",
    "uf = df['uf'].values\n",
    "br = df['br'].values\n",
    "\n",
    "ufbr = uf + ' - ' + br\n",
    "\n",
    "ufbrDF = pd.DataFrame(ufbr, columns = ['ufbr'])\n",
    "\n",
    "# Km\n",
    "km = df['km']\n",
    "kmDF = pd.DataFrame(km)\n",
    "\n",
    "# Uso Solo\n",
    "#us = df['uso_solo']\n",
    "#usDF = pd.DataFrame(us)\n",
    "\n",
    "# Fase dia\n",
    "fd = df['fase_dia']\n",
    "fdDF = pd.DataFrame(fd)\n",
    "\n",
    "# Condição Meteorológica\n",
    "cm = df['condicao_metereologica']\n",
    "cmDF = pd.DataFrame(cm)\n",
    "\n",
    "# Tipo Acidente\n",
    "ta = df['tipo_acidente']\n",
    "taDF = pd.DataFrame(ta)\n",
    "\n",
    "# Causa Acidente\n",
    "ca = df['causa_acidente']\n",
    "caDF = pd.DataFrame(ca)\n",
    "\n",
    "# Dia Semana\n",
    "ds = df['dia_semana']\n",
    "dsDF = pd.DataFrame(ds)\n",
    "\n",
    "# Sentido Via\n",
    "sv = df['sentido_via']\n",
    "svDF = pd.DataFrame(sv)\n",
    "\n",
    "# Tipo Pista\n",
    "tp = df['tipo_pista']\n",
    "tpDF = pd.DataFrame(tp)\n",
    "\n",
    "# Traçado Via\n",
    "tv = df['tracado_via']\n",
    "tvDF = pd.DataFrame(tv)\n",
    "\n",
    "# Classificação Acidente\n",
    "cla_acid = df['classificacao_acidente']\n",
    "cla_acidDF = pd.DataFrame(cla_acid)\n",
    "\n",
    "# Feridos Graves\n",
    "fg = df['feridos_graves']\n",
    "fgDF = pd.DataFrame(fg)\n",
    "\n",
    "#df = pd.concat([fdDF, cmDF, taDF, caDF, dsDF, svDF, tpDF, tvDF, cla_acidDF, usDF, ufbrDF, kmDF, fgDF, ufDF], axis = 1)\n",
    "df = pd.concat([fdDF, cmDF, taDF, caDF, dsDF, svDF, tpDF, tvDF, cla_acidDF, ufbrDF, kmDF, fgDF, ufDF], axis = 1)"
   ]
  },
  {
   "cell_type": "code",
   "execution_count": null,
   "id": "c5caaf84",
   "metadata": {},
   "outputs": [],
   "source": [
    "df['km'] = df['km'].astype(str)\n",
    "\n",
    "df"
   ]
  },
  {
   "cell_type": "code",
   "execution_count": null,
   "id": "446f7058",
   "metadata": {},
   "outputs": [],
   "source": [
    "#df.dtypes"
   ]
  },
  {
   "cell_type": "code",
   "execution_count": null,
   "id": "61c70d95",
   "metadata": {},
   "outputs": [],
   "source": [
    "#df.to_csv('../../estados_df/base_nacional_csv/datatran_BR_2007_2021_processado.csv', index = False)\n",
    "\n",
    "#df.to_csv('../../estados_df/base_nacional_csv/datatran_BR_2007_2020_processado.csv', index = False)\n",
    "\n",
    "#df.to_csv('../../estados_df/base_nacional_csv/datatran_BR_2021_processado.csv', index = False)"
   ]
  },
  {
   "cell_type": "code",
   "execution_count": null,
   "id": "0aebc67d",
   "metadata": {},
   "outputs": [],
   "source": []
  }
 ],
 "metadata": {
  "kernelspec": {
   "display_name": "Python 3 (ipykernel)",
   "language": "python",
   "name": "python3"
  },
  "language_info": {
   "codemirror_mode": {
    "name": "ipython",
    "version": 3
   },
   "file_extension": ".py",
   "mimetype": "text/x-python",
   "name": "python",
   "nbconvert_exporter": "python",
   "pygments_lexer": "ipython3",
   "version": "3.9.13"
  }
 },
 "nbformat": 4,
 "nbformat_minor": 5
}
