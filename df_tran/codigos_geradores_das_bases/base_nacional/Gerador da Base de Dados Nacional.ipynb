{
 "cells": [
  {
   "cell_type": "code",
   "execution_count": null,
   "id": "45c8536f",
   "metadata": {},
   "outputs": [],
   "source": [
    "# Tentando\n",
    "\n",
    "import pandas as pd\n",
    "import numpy as np\n",
    "\n",
    "'''\n",
    "dt_2007 = pd.read_excel('../../datatran_2007_2021/datatran2007.xlsx')\n",
    "dt_2008 = pd.read_excel('../../datatran_2007_2021/datatran2008.xlsx')\n",
    "dt_2009 = pd.read_excel('../../datatran_2007_2021/datatran2009.xlsx')\n",
    "dt_2010 = pd.read_excel('../../datatran_2007_2021/datatran2010.xlsx')\n",
    "dt_2011 = pd.read_excel('../../datatran_2007_2021/datatran2011.xlsx')\n",
    "dt_2012 = pd.read_excel('../../datatran_2007_2021/datatran2012.xlsx')\n",
    "dt_2013 = pd.read_excel('../../datatran_2007_2021/datatran2013.xlsx')\n",
    "dt_2014 = pd.read_excel('../../datatran_2007_2021/datatran2014.xlsx')\n",
    "dt_2015 = pd.read_excel('../../datatran_2007_2021/datatran2015.xlsx')\n",
    "dt_2016 = pd.read_excel('../../datatran_2007_2021/datatran2016.xlsx')\n",
    "dt_2017 = pd.read_excel('../../datatran_2007_2021/datatran2017.xlsx')\n",
    "dt_2018 = pd.read_excel('../../datatran_2007_2021/datatran2018.xlsx')\n",
    "dt_2019 = pd.read_excel('../../datatran_2007_2021/datatran2019.xlsx')\n",
    "dt_2020 = pd.read_excel('../../datatran_2007_2021/datatran2020.xlsx')\n",
    "dt_2021 = pd.read_excel('../../datatran_2007_2021/datatran2021.xlsx')\n",
    "'''\n",
    "\n",
    "#df = pd.read_csv('../datatran_BR_2007_2021.csv')\n",
    "\n",
    "#2007 a 2021\n",
    "#df = pd.concat([dt_2007, dt_2008, dt_2009, dt_2010, dt_2011, dt_2012, dt_2013, dt_2014, dt_2015, dt_2016, dt_2017, dt_2018, dt_2019, dt_2020, dt_2021], ignore_index = True)\n",
    "\n",
    "\n",
    "#2007 a 2020\n",
    "#df = pd.concat([dt_2007, dt_2008, dt_2009, dt_2010, dt_2011, dt_2012, dt_2013, dt_2014, dt_2015, dt_2016, dt_2017, dt_2018, dt_2019, dt_2020], ignore_index = True)\n",
    "\n",
    "#2021\n",
    "df = pd.read_excel('../../datatran_2007_2021/datatran2021.xlsx')"
   ]
  },
  {
   "cell_type": "code",
   "execution_count": null,
   "id": "9515e924",
   "metadata": {},
   "outputs": [],
   "source": [
    "#df"
   ]
  },
  {
   "cell_type": "code",
   "execution_count": null,
   "id": "583fb8d5",
   "metadata": {},
   "outputs": [],
   "source": [
    "#df.drop('Unnamed: 0', axis = 1, inplace = True)\n",
    "\n",
    "# Drops comuns de 2007 a 2020\n",
    "'''\n",
    "df.drop('id', axis = 1, inplace = True)\n",
    "df.drop('data_inversa', axis = 1, inplace = True)\n",
    "df.drop('horario', axis = 1, inplace = True)\n",
    "df.drop('municipio', axis = 1, inplace = True)\n",
    "df.drop('uso_solo', axis = 1, inplace = True)\n",
    "df.drop('ano', axis = 1, inplace = True)\n",
    "df.drop('pessoas', axis = 1, inplace = True)\n",
    "df.drop('mortos', axis = 1, inplace = True)\n",
    "df.drop('feridos_leves', axis = 1, inplace = True)\n",
    "df.drop('ilesos', axis = 1, inplace = True)\n",
    "df.drop('ignorados', axis = 1, inplace = True)\n",
    "df.drop('feridos', axis = 1, inplace = True)\n",
    "df.drop('veiculos', axis = 1, inplace = True)\n",
    "df.drop('latitude', axis = 1, inplace = True)\n",
    "df.drop('longitude', axis = 1, inplace = True)\n",
    "df.drop('regional', axis = 1, inplace = True)\n",
    "df.drop('delegacia', axis = 1, inplace = True)\n",
    "df.drop('uop', axis = 1, inplace = True)\n",
    "\n",
    "\n",
    "# Drops específicos de 2017\n",
    "\n",
    "df.drop('pesid', axis = 1, inplace = True)\n",
    "df.drop('id_veiculo', axis = 1, inplace = True)\n",
    "df.drop('tipo_veiculo', axis = 1, inplace = True)\n",
    "df.drop('marca', axis = 1, inplace = True)\n",
    "df.drop('ano_fabricacao_veiculo', axis = 1, inplace = True)\n",
    "df.drop('tipo_envolvido', axis = 1, inplace = True)\n",
    "df.drop('estado_fisico', axis = 1, inplace = True)\n",
    "df.drop('idade', axis = 1, inplace = True)\n",
    "df.drop('sexo', axis = 1, inplace = True)\n",
    "'''\n",
    "\n",
    "# Quando eu fizer somente o DB de 2021 (usar isso)\n",
    "'''\n",
    "df.drop('id', axis = 1, inplace = True)\n",
    "df.drop('data_inversa', axis = 1, inplace = True)\n",
    "df.drop('horario', axis = 1, inplace = True)\n",
    "df.drop('municipio', axis = 1, inplace = True)\n",
    "df.drop('uso_solo', axis = 1, inplace = True)\n",
    "df.drop('pessoas', axis = 1, inplace = True)\n",
    "df.drop('mortos', axis = 1, inplace = True)\n",
    "df.drop('feridos_leves', axis = 1, inplace = True)\n",
    "df.drop('ilesos', axis = 1, inplace = True)\n",
    "df.drop('ignorados', axis = 1, inplace = True)\n",
    "df.drop('feridos', axis = 1, inplace = True)\n",
    "df.drop('veiculos', axis = 1, inplace = True)\n",
    "df.drop('latitude', axis = 1, inplace = True)\n",
    "df.drop('longitude', axis = 1, inplace = True)\n",
    "df.drop('regional', axis = 1, inplace = True)\n",
    "df.drop('delegacia', axis = 1, inplace = True)\n",
    "df.drop('uop', axis = 1, inplace = True)\n",
    "'''"
   ]
  },
  {
   "cell_type": "code",
   "execution_count": null,
   "id": "d2ea3632",
   "metadata": {
    "scrolled": true
   },
   "outputs": [],
   "source": [
    "df"
   ]
  },
  {
   "cell_type": "code",
   "execution_count": null,
   "id": "1d7079b3",
   "metadata": {
    "scrolled": false
   },
   "outputs": [],
   "source": [
    "#df.dtypes\n",
    "df"
   ]
  },
  {
   "cell_type": "code",
   "execution_count": null,
   "id": "c7c3344c",
   "metadata": {},
   "outputs": [],
   "source": [
    "#'''\n",
    "\n",
    "# fase_dia\n",
    "\n",
    "# Ajustes\n",
    "df.loc[df['fase_dia'] == 'Plena noite', 'fase_dia'] = 'Plena Noite'\n",
    "\n",
    "\n",
    "# condicao_meteorologica\n",
    "\n",
    "# Ajustes\n",
    "df.loc[df['condicao_metereologica'] == 'Ceu Claro', 'condicao_metereologica'] = 'Céu Claro'\n",
    "df.loc[df['condicao_metereologica'] == 'Nevoeiro/neblina', 'condicao_metereologica'] = 'Nevoeiro/Neblina'\n",
    "\n",
    "\n",
    "# tipo_acidente\n",
    "\n",
    "# Ajustes\n",
    "df.loc[df['tipo_acidente'] == 'Atropelamento de Animal', 'tipo_acidente'] = 'Atropelamento de animal'\n",
    "df.loc[df['tipo_acidente'] == 'Atropelamento de pessoa', 'tipo_acidente'] = 'Atropelamento de Pedestre'\n",
    "\n",
    "#df.loc[df['tipo_acidente'] == 'Colisão com objeto', 'tipo_acidente'] = 'Colisão'\n",
    "df.loc[df['tipo_acidente'] == 'Colisão com objeto móvel', 'tipo_acidente'] = 'Colisão com objeto em movimento'\n",
    "df.loc[df['tipo_acidente'] == 'Colisão com objeto estático', 'tipo_acidente'] = 'Colisão com objeto fixo'\n",
    "\n",
    "df.loc[df['tipo_acidente'] == 'Colisão transversal', 'tipo_acidente'] = 'Colisão Transversal'\n",
    "\n",
    "df.loc[df['tipo_acidente'] == 'Danos eventuais', 'tipo_acidente'] = 'Danos Eventuais'\n",
    "df.loc[df['tipo_acidente'] == 'Derramamento de Carga', 'tipo_acidente'] = 'Derramamento de carga'\n",
    "df.loc[df['tipo_acidente'] == 'Eventos Atípicos', 'tipo_acidente'] = 'Eventos atípicos'\n",
    "\n",
    "df.loc[df['tipo_acidente'] == 'Saída de leito carroçável', 'tipo_acidente'] = 'Saída de Pista'\n",
    "\n",
    "\n",
    "# causa_acidente\n",
    "\n",
    "# Ajustes\n",
    "\n",
    "df.loc[df['causa_acidente'] == 'Ingestão de Álcool', 'causa_acidente'] = 'Ingestão de álcool'\n",
    "df.loc[df['causa_acidente'] == 'Ingestão de álcool ou de substâncias psicoativas pelo pedestre', 'causa_acidente'] = 'Ingestão de álcool e/ou substâncias psicoativas pelo pedestre'\n",
    "\n",
    "df.loc[df['causa_acidente'] == 'Ultrapassagem Indevida', 'causa_acidente'] = 'Ultrapassagem indevida'\n",
    "df.loc[df['causa_acidente'] == 'Defeito mecânico em veículo', 'causa_acidente'] = 'Defeito Mecânico no Veículo'\n",
    "\n",
    "df.loc[df['causa_acidente'] == 'Velocidade Incompatível', 'causa_acidente'] = 'Velocidade incompatível'\n",
    "df.loc[df['causa_acidente'] == 'Dormindo', 'causa_acidente'] = 'Condutor Dormindo'\n",
    "\n",
    "df.loc[df['causa_acidente'] == 'Fenômenos da Natureza', 'causa_acidente'] = 'Fenômenos da natureza'\n",
    "df.loc[df['causa_acidente'] == 'Restrição de Visibilidade', 'causa_acidente'] = 'Restrição de visibilidade'\n",
    "\n",
    "df.loc[df['causa_acidente'] == 'Ausência de reação do condutor', 'causa_acidente'] = 'Reação tardia ou ineficiente do condutor'\n",
    "\n",
    "# Pré-processamento\n",
    "\n",
    "df.loc[df['causa_acidente'] == 'Deficiência do Sistema de Iluminação/Sinalização', 'causa_acidente'] = 'Deficiência na sinalização/iluminação do veículo'\n",
    "df.loc[df['causa_acidente'] == 'Iluminação deficiente', 'causa_acidente'] = 'Deficiência na sinalização/iluminação do veículo'\n",
    "\n",
    "df.loc[df['causa_acidente'] == 'Acumulo de areia ou detritos sobre o pavimento', 'causa_acidente'] = 'Acúmulo de substância sólida ou líquida sob o pavimento'\n",
    "df.loc[df['causa_acidente'] == 'Acumulo de óleo sobre o pavimento', 'causa_acidente'] = 'Acúmulo de substância sólida ou líquida sob o pavimento'\n",
    "\n",
    "df.loc[df['causa_acidente'] == 'Acumulo de água sobre o pavimento', 'causa_acidente'] = 'Acúmulo de substância sólida ou líquida sob o pavimento'\n",
    "df.loc[df['causa_acidente'] == 'Pedestre andava na pista', 'causa_acidente'] = 'Pedestre na pista'\n",
    "df.loc[df['causa_acidente'] == 'Entrada inopinada do pedestre', 'causa_acidente'] = 'Pedestre na pista'\n",
    "\n",
    "\n",
    "# dia_semana\n",
    "df.loc[df['dia_semana'] == 'Segunda', 'dia_semana'] = 'segunda-feira'\n",
    "df.loc[df['dia_semana'] == 'Terça', 'dia_semana'] = 'terça-feira'\n",
    "df.loc[df['dia_semana'] == 'Quarta', 'dia_semana'] = 'quarta-feira'\n",
    "df.loc[df['dia_semana'] == 'Quinta', 'dia_semana'] = 'quinta-feira'\n",
    "df.loc[df['dia_semana'] == 'Sexta', 'dia_semana'] = 'sexta-feira'\n",
    "df.loc[df['dia_semana'] == 'Sábado', 'dia_semana'] = 'sábado'\n",
    "df.loc[df['dia_semana'] == 'Domingo', 'dia_semana'] = 'domingo'\n",
    "\n",
    "\n",
    "# tracado_via\n",
    "\n",
    "# tipo_pista\n",
    "\n",
    "# classificacao_acidente\n",
    "\n",
    "# Ajustes\n",
    "df.loc[(df['classificacao_acidente'] == 'Com Vítimas Feridas') & (df['feridos_graves'] == 0), 'classificacao_acidente'] = 'Não Grave'\n",
    "df.loc[(df['classificacao_acidente'] == 'Com Vítimas Feridas') & (df['feridos_graves'] >= 1), 'classificacao_acidente'] = 'Grave'\n",
    "\n",
    "df.loc[df['classificacao_acidente'] == 'Sem Vítimas', 'classificacao_acidente'] = 'Não Grave'\n",
    "df.loc[df['classificacao_acidente'] == 'Com Vítimas Fatais', 'classificacao_acidente'] = 'Grave'\n",
    "\n",
    "df.loc[(df['classificacao_acidente'] == 'Ignorado') & (df['feridos_graves'] == 0), 'classificacao_acidente'] = 'Não Grave'\n",
    "df.loc[(df['classificacao_acidente'] == 'Ignorado') & (df['feridos_graves'] >= 1), 'classificacao_acidente'] = 'Grave'\n",
    "#'''"
   ]
  },
  {
   "cell_type": "code",
   "execution_count": null,
   "id": "c8e7cf78",
   "metadata": {
    "scrolled": true
   },
   "outputs": [],
   "source": [
    "# Unnamed: 0\tdia_semana\tuf\tbr\tkm\tcausa_acidente\ttipo_acidente\tclassificacao_acidente\tfase_dia\tsentido_via\tcondicao_metereologica\ttipo_pista\ttracado_via\tferidos_graves\n",
    "\n",
    "#df['tipo_acidente'].value_counts()"
   ]
  },
  {
   "cell_type": "code",
   "execution_count": null,
   "id": "9e9326e0",
   "metadata": {
    "scrolled": true
   },
   "outputs": [],
   "source": [
    "df"
   ]
  },
  {
   "cell_type": "code",
   "execution_count": null,
   "id": "2feb917b",
   "metadata": {},
   "outputs": [],
   "source": [
    "df.replace({'(null)': np.nan, '': np.nan, \n",
    "                   'Null': np.nan, 'NuLL': np.nan, \n",
    "                   'NULL': np.nan, 'null': np.nan, \n",
    "                   'Outras': np.nan, 'NaN': np.nan, \n",
    "                   'nan': np.nan, 'Ignorado': np.nan, \n",
    "                   'Ignorada': np.nan, 'Não Informado': np.nan, \n",
    "                   'Não Informada': np.nan, 'Outros': np.nan, \n",
    "                   'NAN': np.nan, 'NA': np.nan, 'xx': np.nan}, inplace = True)"
   ]
  },
  {
   "cell_type": "code",
   "execution_count": null,
   "id": "3fd877fa",
   "metadata": {
    "scrolled": true
   },
   "outputs": [],
   "source": [
    "df"
   ]
  },
  {
   "cell_type": "code",
   "execution_count": null,
   "id": "b88ec97a",
   "metadata": {},
   "outputs": [],
   "source": [
    "df = df.dropna(how = 'any', axis = 0)"
   ]
  },
  {
   "cell_type": "code",
   "execution_count": null,
   "id": "3ee25a00",
   "metadata": {},
   "outputs": [],
   "source": [
    "df"
   ]
  },
  {
   "cell_type": "code",
   "execution_count": null,
   "id": "35c589c5",
   "metadata": {},
   "outputs": [],
   "source": [
    "#df.to_csv('../../estados_df/base_nacional_csv/datatran_BR_2007_2021.csv', index = False)\n",
    "\n",
    "\n",
    "#df.to_csv('../../estados_df/base_nacional_csv/datatran_BR_2007_2020.csv', index = False)\n",
    "\n",
    "#df.to_csv('../../estados_df/base_nacional_csv/datatran_BR_2021.csv', index = False)"
   ]
  },
  {
   "cell_type": "code",
   "execution_count": null,
   "id": "c66602a3",
   "metadata": {},
   "outputs": [],
   "source": []
  }
 ],
 "metadata": {
  "kernelspec": {
   "display_name": "Python 3 (ipykernel)",
   "language": "python",
   "name": "python3"
  },
  "language_info": {
   "codemirror_mode": {
    "name": "ipython",
    "version": 3
   },
   "file_extension": ".py",
   "mimetype": "text/x-python",
   "name": "python",
   "nbconvert_exporter": "python",
   "pygments_lexer": "ipython3",
   "version": "3.9.13"
  }
 },
 "nbformat": 4,
 "nbformat_minor": 5
}
