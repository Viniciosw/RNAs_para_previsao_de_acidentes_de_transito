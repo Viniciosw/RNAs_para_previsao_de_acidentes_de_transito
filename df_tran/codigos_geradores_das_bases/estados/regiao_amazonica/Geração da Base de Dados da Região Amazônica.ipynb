{
 "cells": [
  {
   "cell_type": "code",
   "execution_count": null,
   "id": "7a348f5b",
   "metadata": {},
   "outputs": [],
   "source": [
    "import pandas as pd\n",
    "import numpy as np\n",
    "\n",
    "df = pd.read_csv('../../../estados_df/base_nacional_csv/datatran_BR_2007_2020_processado.csv')\n",
    "\n",
    "#df = pd.read_csv('../../../estados_df/base_nacional_csv/datatran_BR_2021_processado.csv')"
   ]
  },
  {
   "cell_type": "code",
   "execution_count": null,
   "id": "75f89058",
   "metadata": {},
   "outputs": [],
   "source": [
    "df"
   ]
  },
  {
   "cell_type": "code",
   "execution_count": null,
   "id": "6031b687",
   "metadata": {},
   "outputs": [],
   "source": [
    "df.loc[(df['uf'] != 'AC') &\n",
    "           (df['uf'] != 'AP') &\n",
    "            (df['uf'] != 'AM') &\n",
    "             (df['uf'] != 'PA') &\n",
    "              (df['uf'] != 'RO') &\n",
    "               (df['uf'] != 'RR') & \n",
    "                (df['uf'] != 'TO') &\n",
    "                 (df['uf'] != 'MA') &\n",
    "                  (df['uf'] != 'MT'), 'uf'] = 'xx'"
   ]
  },
  {
   "cell_type": "code",
   "execution_count": null,
   "id": "484bf8d9",
   "metadata": {},
   "outputs": [],
   "source": [
    "df.replace({'xx': np.nan}, inplace = True)\n",
    "df.reset_index(drop = True, inplace = True)"
   ]
  },
  {
   "cell_type": "code",
   "execution_count": null,
   "id": "893da36a",
   "metadata": {},
   "outputs": [],
   "source": [
    "df"
   ]
  },
  {
   "cell_type": "code",
   "execution_count": null,
   "id": "4759d9ad",
   "metadata": {},
   "outputs": [],
   "source": [
    "df = df.dropna(how = 'any', axis = 0)"
   ]
  },
  {
   "cell_type": "code",
   "execution_count": null,
   "id": "e8acf5c5",
   "metadata": {
    "scrolled": false
   },
   "outputs": [],
   "source": [
    "df.reset_index(drop = True, inplace = True)\n",
    "\n",
    "df"
   ]
  },
  {
   "cell_type": "code",
   "execution_count": null,
   "id": "6911a162",
   "metadata": {},
   "outputs": [],
   "source": [
    "#df['uf'].value_counts()"
   ]
  },
  {
   "cell_type": "code",
   "execution_count": null,
   "id": "2302766e",
   "metadata": {},
   "outputs": [],
   "source": [
    "#df.to_csv('../../../estados_df/regiao_amazonica_csv/datatran_amazonica_2007_2020_processado.csv', index = False)\n",
    "\n",
    "#df.to_csv('../../../estados_df/regiao_amazonica_csv/datatran_amazonica_2021_processado.csv', index = False)"
   ]
  },
  {
   "cell_type": "code",
   "execution_count": null,
   "id": "cdfcbca1",
   "metadata": {},
   "outputs": [],
   "source": []
  }
 ],
 "metadata": {
  "kernelspec": {
   "display_name": "Python 3 (ipykernel)",
   "language": "python",
   "name": "python3"
  },
  "language_info": {
   "codemirror_mode": {
    "name": "ipython",
    "version": 3
   },
   "file_extension": ".py",
   "mimetype": "text/x-python",
   "name": "python",
   "nbconvert_exporter": "python",
   "pygments_lexer": "ipython3",
   "version": "3.9.13"
  }
 },
 "nbformat": 4,
 "nbformat_minor": 5
}
