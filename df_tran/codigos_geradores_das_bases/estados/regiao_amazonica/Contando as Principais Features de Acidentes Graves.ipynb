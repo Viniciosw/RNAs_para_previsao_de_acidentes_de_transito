{
 "cells": [
  {
   "cell_type": "code",
   "execution_count": null,
   "id": "5f4ee549",
   "metadata": {},
   "outputs": [],
   "source": [
    "import pandas as pd\n",
    "import numpy as np\n",
    "\n",
    "import matplotlib.pyplot as plt\n",
    "import seaborn as sns\n",
    "\n",
    "# configurar o estilo dos gráficos com o Seaborn\n",
    "sns.set_style('dark')\n",
    "\n",
    "df = pd.read_csv('../../../estados_df/regiao_amazonica_csv/datatran_amazonica_2007_2020_processado.csv')\n",
    "#df = pd.read_csv('../../../estados_df/regiao_amazonica_csv/datatran_amazonica_2021_processado.csv')"
   ]
  },
  {
   "cell_type": "code",
   "execution_count": null,
   "id": "a2985c56",
   "metadata": {},
   "outputs": [],
   "source": [
    "df_nao_grave = df.loc[df['classificacao_acidente'] == 'Não Grave']\n",
    "df_grave = df.loc[df['classificacao_acidente'] == 'Grave']"
   ]
  },
  {
   "cell_type": "code",
   "execution_count": null,
   "id": "d8ce6da7",
   "metadata": {},
   "outputs": [],
   "source": [
    "#df_nao_grave\n",
    "#df_grave"
   ]
  },
  {
   "cell_type": "code",
   "execution_count": null,
   "id": "57d37d1a",
   "metadata": {},
   "outputs": [],
   "source": [
    "df_nao_grave['causa_acidente'].value_counts()"
   ]
  },
  {
   "cell_type": "code",
   "execution_count": null,
   "id": "df4f4486",
   "metadata": {
    "scrolled": false
   },
   "outputs": [],
   "source": [
    "df_grave['causa_acidente'].value_counts()"
   ]
  },
  {
   "cell_type": "code",
   "execution_count": null,
   "id": "76e591e8",
   "metadata": {},
   "outputs": [],
   "source": []
  }
 ],
 "metadata": {
  "kernelspec": {
   "display_name": "Python 3 (ipykernel)",
   "language": "python",
   "name": "python3"
  },
  "language_info": {
   "codemirror_mode": {
    "name": "ipython",
    "version": 3
   },
   "file_extension": ".py",
   "mimetype": "text/x-python",
   "name": "python",
   "nbconvert_exporter": "python",
   "pygments_lexer": "ipython3",
   "version": "3.9.13"
  }
 },
 "nbformat": 4,
 "nbformat_minor": 5
}
